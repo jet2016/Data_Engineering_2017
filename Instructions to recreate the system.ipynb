{
 "cells": [
  {
   "cell_type": "markdown",
   "metadata": {},
   "source": [
    "# Setup"
   ]
  },
  {
   "cell_type": "markdown",
   "metadata": {},
   "source": [
    "1) Go to AWS, login with your AWS credentials and create a S3 bucket. In this project the bucket I created is called \"finalprojectpitchfork.\" I also had to create another bucket \"finalprojectpitchfork2\" later on. Please see the screenshots below from my S3. \n",
    "\n",
    "\n"
   ]
  },
  {
   "cell_type": "markdown",
   "metadata": {},
   "source": [
    "2) Run the code \"pf_miner.py\" to webscrape Pitchfork (see the pf_minor.py code and run it in PyCharm if you can, to see it execute). This script uses \"Threadpoolexecutor\" and \"Beautiful Soup\" to webscrape the Pitchfork reviews page.This grabs entire history of reviews and stores it in S3.\n",
    "\n",
    "--- Remember to put your own bucket name in \"pf_minor.py\"\n",
    "\n",
    "\n",
    "--- \"pf_miner.py\" also has the cron function that we use with crontab and it runs the script every 24 hours to check for new reviews."
   ]
  },
  {
   "cell_type": "markdown",
   "metadata": {},
   "source": [
    "![s3](images/S3_bucket.png)"
   ]
  },
  {
   "cell_type": "markdown",
   "metadata": {},
   "source": [
    "The screenshot below is a list of output files from Pitchfork reviews page after I webscraped it and dumped the data in my S3 bucket."
   ]
  },
  {
   "cell_type": "markdown",
   "metadata": {},
   "source": [
    "![s3](images/S3_bucket_file.png)"
   ]
  },
  {
   "cell_type": "markdown",
   "metadata": {
    "collapsed": true
   },
   "source": [
    "3) Create an EC2 instance and run the script and steps 1 and 2 on it.\n",
    "\n",
    "\n",
    "4) Create an EMR cluster on AWS with bootstrap settings. \n",
    "\n"
   ]
  },
  {
   "cell_type": "markdown",
   "metadata": {},
   "source": [
    "![emr](images/EMRcluster.png)"
   ]
  },
  {
   "cell_type": "markdown",
   "metadata": {},
   "source": [
    "![emr](images/EMRcluster2.png)"
   ]
  },
  {
   "cell_type": "markdown",
   "metadata": {},
   "source": [
    "![emr](images/EMRclusterbootstrap.png)"
   ]
  },
  {
   "cell_type": "markdown",
   "metadata": {},
   "source": [
    "![emr](images/EMRclusterstart.png)"
   ]
  },
  {
   "cell_type": "markdown",
   "metadata": {},
   "source": [
    "![emr](images/EMRclusterwait.png)"
   ]
  },
  {
   "cell_type": "markdown",
   "metadata": {},
   "source": [
    "5) Create an AWS RDS database.\n"
   ]
  },
  {
   "cell_type": "markdown",
   "metadata": {},
   "source": [
    "![rds](images/RDSPostgres.png)"
   ]
  },
  {
   "cell_type": "markdown",
   "metadata": {},
   "source": [
    "6) Run the script \"make_db.py\" which loads data from S3 using Spark, and parallel inserts the data into a RDS and PostgresSQL.\n",
    "\n",
    "To run it, type \"spark-submit make_db.py\" in command line\n"
   ]
  },
  {
   "cell_type": "markdown",
   "metadata": {},
   "source": [
    "![db](images/db.png)"
   ]
  },
  {
   "cell_type": "markdown",
   "metadata": {
    "collapsed": true
   },
   "source": [
    "7) Run a spark-submit on script \"mllib_job.py\" in command line - this script contains instructions and code for doing a word count on all reviews in RDS, as well as running Naive Bayes on that data. \n",
    "The condition used for Naive Bayes is:\n",
    "There a re 2 labels, if score for the music is greater than $8.2$ the label is a 1 else 0.\n",
    "\n",
    "8) The word count from step 3 above is saved as a pickle file (which basically saves objects as serial bytes) locally. We use this pickle file in \"plot_jobs.py\" to create wordcloud, whcih we cover in more detail in the \"Showing_data\" section."
   ]
  },
  {
   "cell_type": "markdown",
   "metadata": {},
   "source": [
    "![wordcount](images/WordCount.png)"
   ]
  },
  {
   "cell_type": "markdown",
   "metadata": {},
   "source": [
    "![wordcount](images/WordCount2.png)"
   ]
  },
  {
   "cell_type": "markdown",
   "metadata": {},
   "source": [
    "![wordcount](images/WordCount3.png)"
   ]
  },
  {
   "cell_type": "markdown",
   "metadata": {},
   "source": [
    "![wordcount](images/WordCount4.png)"
   ]
  },
  {
   "cell_type": "markdown",
   "metadata": {},
   "source": [
    "![wordcount](images/Wordcountoutput.png)"
   ]
  },
  {
   "cell_type": "markdown",
   "metadata": {},
   "source": [
    "![wc](images/Wordcountpickle.png)"
   ]
  }
 ],
 "metadata": {
  "kernelspec": {
   "display_name": "Python 3",
   "language": "python",
   "name": "python3"
  },
  "language_info": {
   "codemirror_mode": {
    "name": "ipython",
    "version": 3
   },
   "file_extension": ".py",
   "mimetype": "text/x-python",
   "name": "python",
   "nbconvert_exporter": "python",
   "pygments_lexer": "ipython3",
   "version": "3.6.0"
  }
 },
 "nbformat": 4,
 "nbformat_minor": 2
}
