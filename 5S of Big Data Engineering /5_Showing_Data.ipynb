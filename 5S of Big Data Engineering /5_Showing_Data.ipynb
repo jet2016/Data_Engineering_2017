{
 "cells": [
  {
   "cell_type": "markdown",
   "metadata": {
    "collapsed": true
   },
   "source": [
    "# Basic Steps to do Showing"
   ]
  },
  {
   "cell_type": "markdown",
   "metadata": {},
   "source": [
    " *Run Flask on a new EC2 instance, and maybe show the output statistics on a static webpage.\n",
    " That is definitely a possibility.\n",
    " \n",
    " *However I did a word count on data in database, so I wanted to see if there are fun ways of showing the data and I ran into \"amueller's\" Github repo that walks user through taking a wordcount that is returned as a pickle file, and construct a wordcloud. It is really neat. \n",
    " "
   ]
  },
  {
   "cell_type": "markdown",
   "metadata": {},
   "source": [
    "This is the Githib repo that has details on the Wordcloud creation from wordcount\n",
    "https://github.com/amueller/word_cloud\n",
    "\n",
    "It takes the words and with a given picture or logo, it arranges the words around it.\n",
    "The size of the words is directly proportional to the wordcount of the words."
   ]
  },
  {
   "cell_type": "markdown",
   "metadata": {},
   "source": [
    "###### Please note, I am trying to run the code in Notebook here to make it look modular. The reason I am running into errors here is I have put some of the functions and other files in separate folders for proper book keeping. So from this location I would have to change the paths of the functions I am calling. Recommended way to run this--- All the scripts will run in PyCharm or Atom or Command Line."
   ]
  },
  {
   "cell_type": "markdown",
   "metadata": {},
   "source": [
    "###### Please refer to the \"app\" folder for the code - \"plots_jobs.py\" for wordcloud and \"app.py\" to create the static webpage, if we need it. The \"app\" folder also has a \"static\" subfolder that has an example of\n",
    "\n",
    "wordcount.text file,\n",
    "Pitchfork logo\n",
    "and how wordcloud renders an o/p using code below: \"pf_wc.jpg.\""
   ]
  },
  {
   "cell_type": "code",
   "execution_count": null,
   "metadata": {
    "collapsed": true
   },
   "outputs": [],
   "source": [
    "from os import path\n",
    "import json\n",
    "import pickle\n",
    "from PIL import Image\n",
    "import numpy as np\n",
    "from wordcloud import WordCloud, STOPWORDS\n",
    "\n",
    "'''Jobs for making the word cloud'''\n",
    "\n",
    "def main():\n",
    "    with open('./static/word_count.txt', 'rb') as f:\n",
    "        word_count = pickle.load(f)\n",
    "        make_wc(np.array(Image.open(path.join(d, \"./static/pf_logo.jpg\"))), \n",
    "                stringify(word_count))\n",
    "\n",
    "\n",
    "def make_wc(mask, text):\n",
    "\n",
    "    stopwords = set(STOPWORDS)\n",
    "    stopwords.add(\"said\")\n",
    "\n",
    "    wc = WordCloud(background_color=\"white\", max_words=2000, mask=mask, stopwords=stopwords)\n",
    "\n",
    "    # generate word cloud\n",
    "    wc.generate(text)\n",
    "\n",
    "    # store to file\n",
    "    wc.to_file(path.join(d, \"./static/pf_wc.jpg\"))\n",
    "\n",
    "\n",
    "def stringify(word_count):\n",
    "    s = ''\n",
    "    stopwords = set(STOPWORDS)\n",
    "    stopwords.add(\"said\")\n",
    "    for w, c in word_count:\n",
    "        if w in stopwords or len(w) < 3:\n",
    "            continue\n",
    "        else:\n",
    "            for i in range(c):\n",
    "                s+=w\n",
    "    with open('static/words.txt', 'w') as f:\n",
    "        f.write(s)\n",
    "    return s\n"
   ]
  },
  {
   "cell_type": "code",
   "execution_count": null,
   "metadata": {
    "collapsed": true
   },
   "outputs": [],
   "source": []
  }
 ],
 "metadata": {
  "kernelspec": {
   "display_name": "Python 3",
   "language": "python",
   "name": "python3"
  },
  "language_info": {
   "codemirror_mode": {
    "name": "ipython",
    "version": 3
   },
   "file_extension": ".py",
   "mimetype": "text/x-python",
   "name": "python",
   "nbconvert_exporter": "python",
   "pygments_lexer": "ipython3",
   "version": "3.6.0"
  }
 },
 "nbformat": 4,
 "nbformat_minor": 2
}
