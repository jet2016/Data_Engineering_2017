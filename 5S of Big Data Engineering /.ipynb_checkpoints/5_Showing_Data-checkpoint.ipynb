{
 "cells": [
  {
   "cell_type": "code",
   "execution_count": null,
   "metadata": {
    "collapsed": true
   },
   "outputs": [],
   "source": []
  },
  {
   "cell_type": "markdown",
   "metadata": {},
   "source": [
    " Run Flask on a new EC2 instance, use the final_flask.py.\n",
    "* Run Spyre on a new EC2 instance, use the final_spyre.py."
   ]
  },
  {
   "cell_type": "code",
   "execution_count": null,
   "metadata": {
    "collapsed": true
   },
   "outputs": [],
   "source": [
    "from os import path\n",
    "import json\n",
    "import pickle\n",
    "from PIL import Image\n",
    "import numpy as np\n",
    "from wordcloud import WordCloud, STOPWORDS\n",
    "\n",
    "'''Jobs for making the word cloud'''\n",
    "\n",
    "def main():\n",
    "    with open('./static/word_count.txt', 'rb') as f:\n",
    "        word_count = pickle.load(f)\n",
    "        make_wc(np.array(Image.open(path.join(d, \"./static/pf_logo.jpg\"))), \n",
    "                stringify(word_count))\n",
    "\n",
    "\n",
    "def make_wc(mask, text):\n",
    "\n",
    "    stopwords = set(STOPWORDS)\n",
    "    stopwords.add(\"said\")\n",
    "\n",
    "    wc = WordCloud(background_color=\"white\", max_words=2000, mask=mask, stopwords=stopwords)\n",
    "\n",
    "    # generate word cloud\n",
    "    wc.generate(text)\n",
    "\n",
    "    # store to file\n",
    "    wc.to_file(path.join(d, \"./static/pf_wc.jpg\"))\n",
    "\n",
    "\n",
    "def stringify(word_count):\n",
    "    s = ''\n",
    "    stopwords = set(STOPWORDS)\n",
    "    stopwords.add(\"said\")\n",
    "    for w, c in word_count:\n",
    "        if w in stopwords or len(w) < 3:\n",
    "            continue\n",
    "        else:\n",
    "            for i in range(c):\n",
    "                s+=w\n",
    "    with open('static/words.txt', 'w') as f:\n",
    "        f.write(s)\n",
    "    return s\n"
   ]
  },
  {
   "cell_type": "code",
   "execution_count": null,
   "metadata": {
    "collapsed": true
   },
   "outputs": [],
   "source": []
  }
 ],
 "metadata": {
  "kernelspec": {
   "display_name": "Python 3",
   "language": "python",
   "name": "python3"
  },
  "language_info": {
   "codemirror_mode": {
    "name": "ipython",
    "version": 3
   },
   "file_extension": ".py",
   "mimetype": "text/x-python",
   "name": "python",
   "nbconvert_exporter": "python",
   "pygments_lexer": "ipython3",
   "version": "3.6.0"
  }
 },
 "nbformat": 4,
 "nbformat_minor": 2
}
