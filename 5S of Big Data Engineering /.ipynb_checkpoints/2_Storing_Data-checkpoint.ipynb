{
 "cells": [
  {
   "cell_type": "markdown",
   "metadata": {},
   "source": [
    "# Basic Steps to do Storing\n"
   ]
  },
  {
   "cell_type": "markdown",
   "metadata": {},
   "source": [
    "** Please refer to the code \"pf_miner.py\"\n",
    "\n",
    "**  Here we are taking data and storing it in S3, so connecting to S3. \n",
    "\n",
    "**  This part is part of the second S - Storing, but it is inside code so we will briefly talk about it here.\n",
    "\n",
    "**  We connect to AWS S3 with our AWS credentials and *.yaml file which stores them\n",
    "\n",
    "**  We create a bucket in AWS, here the name is \"finalprojectpitchfork.\" \n",
    "\n",
    "**  We upload our data each time we get a review using the function \"upload_to_s3\"---include Pitchfork review albums - this page contains links to each of the reviews\n",
    "\n",
    "**  We fetch the links from here and then fetch the actual review page using the links\n",
    "and each individual review page contains information we want. \n",
    "\n",
    "**  Once we check that this code is running on local machine I created an EC2 instance on AWS to run it."
   ]
  },
  {
   "cell_type": "markdown",
   "metadata": {},
   "source": [
    "# Detailed steps on how I Store the data"
   ]
  },
  {
   "cell_type": "markdown",
   "metadata": {},
   "source": [
    "###### Please note, I am trying to run the code in Notebook here to make it look modular. The reason I am running into errors here is I have put some of the functions and other files in separate folders for proper book keeping. So from this location I would have to change the paths of the functions I am calling. Recommended way to run this--- All the scripts will run in PyCharm or Atom. "
   ]
  },
  {
   "cell_type": "code",
   "execution_count": null,
   "metadata": {
    "collapsed": true
   },
   "outputs": [],
   "source": [
    "#!/usr/bin/spark-submit\n",
    "\n",
    "from os.path import expanduser\n",
    "import requests #when we type in a link in browser we make a request to that link\n",
    "#we are using request to fetch information from link, once we get it we feed it to soup\n",
    "#Soup parses html and gives us a tree and we go in there and get the information out of it \n",
    "#using soup\n",
    "#This is how we are doing webscraping, as shown below. \n",
    "import json\n",
    "import yaml\n",
    "import pytz\n",
    "from datetime import datetime\n",
    "from dateutil.parser import parse as date_parse\n",
    "from dateutil.relativedelta import relativedelta\n",
    "from boto.s3.connection import S3Connection\n",
    "from boto.s3.key import Key\n",
    "from concurrent.futures import ThreadPoolExecutor, as_completed\n",
    "from bs4 import BeautifulSoup\n",
    "from time import sleep\n",
    "from make_db import partition_job\n"
   ]
  },
  {
   "cell_type": "code",
   "execution_count": null,
   "metadata": {
    "collapsed": true
   },
   "outputs": [],
   "source": [
    "# The base url is the pitchfork reviews page and it returns review columns as a list\n",
    "pf_url = 'http://pitchfork.com'\n",
    "base_url = 'http://pitchfork.com/reviews/albums/'\n",
    "review_columns = ['artist','album','score', 'album_art','genre','label',\n",
    "                'pub_date','abstract','featured_tracks', 'review_content']\n"
   ]
  },
  {
   "cell_type": "markdown",
   "metadata": {},
   "source": [
    "![pitchfork reviews](images/Scratch_Pitchfork.png)"
   ]
  },
  {
   "cell_type": "code",
   "execution_count": null,
   "metadata": {
    "collapsed": true
   },
   "outputs": [],
   "source": [
    "def connect_to_s3(credentials, bucket_name='finalprojectpitchfork'):\n",
    "\n",
    "    conn = S3Connection(credentials['aws']['access_key_id'],credentials['aws']['secret_access_key'])\n",
    "\n",
    "    try:\n",
    "        bucket = conn.get_bucket(bucket_name)\n",
    "        print(\"Bucket found on S3\")\n",
    "    except:\n",
    "        bucket = conn.create_bucket(bucket_name)\n",
    "        print(\"Creating bucket\")\n",
    "    return conn, bucket\n",
    "\n",
    "\n",
    "def upload_to_s3(bucket, data):\n",
    "\n",
    "    try:\n",
    "        k = Key(bucket)\n",
    "        k.key = data['artist'] + ' - ' + data['album']\n",
    "        k.set_contents_from_string(json.dumps(data, ensure_ascii=False))\n",
    "        print(\"Uploaded \", k.key)\n",
    "    except:\n",
    "        print(\"Failed to upload\", k.key)"
   ]
  },
  {
   "cell_type": "markdown",
   "metadata": {},
   "source": [
    "### Please refer to \"pf_miner.py\" for details and to 1_Streaming_data"
   ]
  },
  {
   "cell_type": "markdown",
   "metadata": {},
   "source": [
    "** Please refer to \"ANAMAI-What Mountain\" file in this folder to see AWS S3 downloaded data example from Pitchfork."
   ]
  },
  {
   "cell_type": "markdown",
   "metadata": {},
   "source": [
    "** Please refer to \"S3_bucket.png\" and \"S3_bucket_file.png\" for screenshots of bucket and files under it."
   ]
  }
 ],
 "metadata": {
  "kernelspec": {
   "display_name": "Python 3",
   "language": "python",
   "name": "python3"
  },
  "language_info": {
   "codemirror_mode": {
    "name": "ipython",
    "version": 3
   },
   "file_extension": ".py",
   "mimetype": "text/x-python",
   "name": "python",
   "nbconvert_exporter": "python",
   "pygments_lexer": "ipython3",
   "version": "3.6.0"
  }
 },
 "nbformat": 4,
 "nbformat_minor": 2
}
