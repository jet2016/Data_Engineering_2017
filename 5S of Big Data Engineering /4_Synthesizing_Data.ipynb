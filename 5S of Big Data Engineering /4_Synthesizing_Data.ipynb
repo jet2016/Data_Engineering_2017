{
 "cells": [
  {
   "cell_type": "markdown",
   "metadata": {
    "collapsed": true
   },
   "source": [
    "# Basic Steps to do Synthesizing"
   ]
  },
  {
   "cell_type": "markdown",
   "metadata": {},
   "source": [
    "* Use data stored in RDS via EMR cluster\n",
    "* Do some kind of count/average or use Apache Spark MLlib to run a machine learning algorithm on the data in database."
   ]
  },
  {
   "cell_type": "markdown",
   "metadata": {
    "collapsed": true
   },
   "source": [
    "###### Please note, I am trying to run the code in Notebook here to make it look modular. The reason I am running into errors here is I have put some of the functions and other files in separate folders for proper book keeping. So from this location I would have to change the paths of the functions I am calling. Recommended way to run this--- All the scripts will run in PyCharm or Atom or Command Line."
   ]
  },
  {
   "cell_type": "markdown",
   "metadata": {
    "collapsed": true
   },
   "source": [
    "1) Run a spark-submit on script \"mllib_job.py\" (it is under the \"code\" folder) in command line - this script contains instructions and code for doing a word count on all reviews in RDS, as well as running Naive Bayes on that data. \n",
    "The condition used for Naive Bayes is:\n",
    "There a re 2 labels, if score for the music is greater than $8.2$ the label is a 1 else 0.\n",
    "\n",
    "2) The word count from step 1 above is saved as a pickle file (which basically saves objects as serial bytes) locally. We use this pickle file in \"plot_jobs.py\" to create wordcloud, whcih we cover in more detail in the \"Showing_data\" section."
   ]
  },
  {
   "cell_type": "markdown",
   "metadata": {},
   "source": [
    "![syn](images/WordCount.png)"
   ]
  },
  {
   "cell_type": "markdown",
   "metadata": {},
   "source": [
    "## Please look under file \"Instructions to recreate the system\" to see screenshots and images of wordcount outputs when we run spark-submit mllib_job.py from the command line."
   ]
  },
  {
   "cell_type": "markdown",
   "metadata": {},
   "source": [
    "![syn](images/WordCount.png)"
   ]
  },
  {
   "cell_type": "markdown",
   "metadata": {},
   "source": [
    "![wc](images/Wordcount4.png)"
   ]
  },
  {
   "cell_type": "markdown",
   "metadata": {},
   "source": [
    "![nb](images/Naive_Bayes.png)"
   ]
  },
  {
   "cell_type": "markdown",
   "metadata": {},
   "source": [
    "###### Please refer to screenshots:\n",
    "    \n",
    "\"Naive_Bayes.png\"\n",
    "\n",
    "\"Naive_bayes_ML.png\"\n",
    "\n",
    "\"Naive_Bayes_o:p.png\"\n",
    "\n",
    "\"naive_bayes_parquet\"\n",
    "\n",
    "\"Naive_Bayes_parquet.png\"\n",
    "\n",
    "under the \"5S of Big Data Engineering\" folder to see the output of Naive Bayes."
   ]
  },
  {
   "cell_type": "markdown",
   "metadata": {},
   "source": [
    "# Analysis of the Naive Bayes"
   ]
  },
  {
   "cell_type": "markdown",
   "metadata": {},
   "source": [
    "Well, as part of this project and to explore Apache Spark MLlib I ran Naive Bayes.\n",
    "\n",
    "However the results were not good. Basically 99% of the reviews found in RDS were categorized in label 0. Only 1% were put in label 1 (which represents reviews of 8.2 and above). \n",
    "\n",
    "In other words if we merely guessed the rating of an artist album, we probably would have a higher success rate than this."
   ]
  },
  {
   "cell_type": "markdown",
   "metadata": {},
   "source": [
    "So, for the future we would probably explore with more machine learning algorithms to find a better fit. "
   ]
  },
  {
   "cell_type": "code",
   "execution_count": null,
   "metadata": {
    "collapsed": true
   },
   "outputs": [],
   "source": []
  }
 ],
 "metadata": {
  "kernelspec": {
   "display_name": "Python 3",
   "language": "python",
   "name": "python3"
  },
  "language_info": {
   "codemirror_mode": {
    "name": "ipython",
    "version": 3
   },
   "file_extension": ".py",
   "mimetype": "text/x-python",
   "name": "python",
   "nbconvert_exporter": "python",
   "pygments_lexer": "ipython3",
   "version": "3.6.0"
  }
 },
 "nbformat": 4,
 "nbformat_minor": 2
}
