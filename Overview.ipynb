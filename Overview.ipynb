{
 "cells": [
  {
   "cell_type": "markdown",
   "metadata": {},
   "source": [
    "Business Case - Real World Big Data Challenge\n",
    "---\n",
    "A startup space to give independent artists - like musicians, actors, writers a platform to share their talents and showcase their skills.\n",
    "\n",
    "\n",
    "Potentially this will be a precise marketplace for showcasing skills as well as potential employers to come and look for new talent, instead of hunting for them via various channels like YouTube, portfolios and so on.\n",
    "\n",
    "Pitchfork is just the starting point to gather reviews of independent artists from and classify them into labels so that it is easy for employers to look through them.\n",
    "\n",
    "One thing to note here is there are millions of independent artists there on different websites - how do we track them? how do we connect with them? where should we go see and hear their work? How and who do we compare their work to?  \"American Idol\" gives a platform to few talented individuals - what happens to the rest? How do we give them a voice? \n",
    "The data out there on these individual artists is big... really big... that is the real world big data challenge this startup will address. The data will be in terabytes or pegabytes.\n",
    "\n",
    "This project is but the first stepping stone to take data from one data source - Pitchfork(http://pitchfork.com/) and build an end-to-end system.\n"
   ]
  },
  {
   "cell_type": "markdown",
   "metadata": {},
   "source": [
    "![independent artists](images/Indie_Artists.jpeg)"
   ]
  },
  {
   "cell_type": "markdown",
   "metadata": {},
   "source": [
    "Overview\n",
    "==="
   ]
  },
  {
   "cell_type": "markdown",
   "metadata": {},
   "source": [
    "This is a final project for my DSCI6007 Data Engineering class. \n",
    "\n",
    "The ultimate idea is to provide a streamlined precise platform for independent artists to show case their work and for talent scouts and employers to connect with and/or hire talent they need from this site. \n",
    "\n",
    "The project is far from done, obviously. Keeping in mind the project scope, the first step is to gather reviews about independent artists, their music albums and genre and build a big data system end to end that is robust, can scale and fits the other desirable big data properties. \n",
    "\n",
    "For example, one unique thing about Pitchfork is that ratings for a particular album can be a zero. This is different from all other ratings site because the reviewers are allowed to rate a music album as zero based on their perception of the artist, genre and album amongst other things. \n",
    "\n"
   ]
  },
  {
   "cell_type": "markdown",
   "metadata": {},
   "source": [
    "### What I did in this project "
   ]
  },
  {
   "cell_type": "markdown",
   "metadata": {},
   "source": [
    "###### More details under the folder - \n",
    "\n",
    "\"5S of Big Data Engineering\" and \n",
    "\n",
    "\n",
    "\"Instructions to recreate the system\"¶\n",
    "\n"
   ]
  },
  {
   "cell_type": "markdown",
   "metadata": {},
   "source": [
    "![DAG](images/DE_Eli_May10.png)"
   ]
  },
  {
   "cell_type": "markdown",
   "metadata": {},
   "source": [
    "1) I used the code \"pf_minor.py\" to webscrape Pitchfork (see the pf_minor.py code and run it in PyCharm if you can to see it execute). This script uses \"Threadpoolexecutor\" and \"Beautiful Soup\" to webscrape the Pitchfork reviews page.This grabs enitre history of reviews and stores it in S3.\n",
    "\n",
    "2) Then the script \"make_db.py\" loads data from S3 using Spark, and parallel inserts the data into a RDS and PostgresSQL.\n",
    "\n",
    "3) I run a spark submit \"mllib_job.py\" - this script contains instructions and code for doing a word count on all reviews in RDS, as well as running Naive Bayes. \n",
    "The condition used for Naive Bayes is:\n",
    "There a re 2 labels, if score for the music is greater than $8.2$ the label is a 1 else 0.\n",
    "\n",
    "4) The word count from step 3 above is saved as a pickle file (which basically saves objects as serial bytes) locally. We us this pickle file in \"plot_jobs.py\" to create wordcloud."
   ]
  },
  {
   "cell_type": "markdown",
   "metadata": {},
   "source": [
    "![independent artists](images/world_independent_artists.jpeg)"
   ]
  },
  {
   "cell_type": "markdown",
   "metadata": {},
   "source": [
    "General Flow through the Notebooks:\n",
    "Note: There is some overlap between notebooks.\n",
    "Twitter_API_Testing.ipynb\n",
    "Collecting_streaming_tweets.ipynb (and twitter_streaming.py)\n",
    "Gathering_BART_Data.ipynb\n",
    "Loading_BART_Postgres.ipynb\n",
    "Loading_Twitter_Postgres.ipynb\n",
    "Querying_Postgres.ipynb\n",
    "Matching_Tweets_and_BART.ipynb\n",
    "Go to Matching_Tweets_and_BART.ipynb for Demo\n",
    "Future Versions\n",
    "SparkStreaming for real-time processing of Tweets\n",
    "Use BART's streaming API\n",
    "Kafka for processing incoming data streams\n",
    "Shift data storage from Postgres to HDFS (better equipped to handle massive amounts of Twitter data)\n",
    "Fine-tune Tweet filtering for better capture relevant information for BART riders\n",
    "Route planning and filtering for relevant BART train times for that day\n",
    "Vertex planning (per gU instructor Brian Spiering's advice)\n",
    "...All compiled into a brilliant app with a BART-related Tweet ticker and options for users to query their routes"
   ]
  },
  {
   "cell_type": "markdown",
   "metadata": {},
   "source": [
    "The 5 S's of Big Data Engineering\n",
    "---"
   ]
  },
  {
   "cell_type": "markdown",
   "metadata": {},
   "source": [
    "---Streaming\n",
    "\n",
    "---Storing\n",
    "\n",
    "---Structuring\n",
    "\n",
    "---Synthesizing\n",
    "\n",
    "---Showing"
   ]
  },
  {
   "cell_type": "markdown",
   "metadata": {},
   "source": [
    "Please refer to the folder \"5S of Big Data Engineering\" for more details on each of these and how this project accompishes them."
   ]
  },
  {
   "cell_type": "markdown",
   "metadata": {},
   "source": [
    "# 8 Properties of Big Data Systems"
   ]
  },
  {
   "cell_type": "markdown",
   "metadata": {},
   "source": [
    "Please refer to the Notebook with the name \"8 Properties of Big Data Systems\" for details on these properties and how this project satisfies them effectively."
   ]
  },
  {
   "cell_type": "markdown",
   "metadata": {
    "collapsed": true
   },
   "source": [
    "# Instructions to recreate the system"
   ]
  },
  {
   "cell_type": "markdown",
   "metadata": {},
   "source": [
    "Please refer to the Notebook with the same name, as ths heading above,  with a step by step instruction on how to recreate this system."
   ]
  },
  {
   "cell_type": "code",
   "execution_count": null,
   "metadata": {
    "collapsed": true
   },
   "outputs": [],
   "source": []
  }
 ],
 "metadata": {
  "kernelspec": {
   "display_name": "Python 3",
   "language": "python",
   "name": "python3"
  },
  "language_info": {
   "codemirror_mode": {
    "name": "ipython",
    "version": 3
   },
   "file_extension": ".py",
   "mimetype": "text/x-python",
   "name": "python",
   "nbconvert_exporter": "python",
   "pygments_lexer": "ipython3",
   "version": "3.6.0"
  }
 },
 "nbformat": 4,
 "nbformat_minor": 2
}
